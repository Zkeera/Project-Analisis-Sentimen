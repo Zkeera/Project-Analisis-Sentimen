{
  "nbformat": 4,
  "nbformat_minor": 0,
  "metadata": {
    "colab": {
      "provenance": [],
      "authorship_tag": "ABX9TyONQ4tNKd6vGfh6E94vX5Kb",
      "include_colab_link": true
    },
    "kernelspec": {
      "name": "python3",
      "display_name": "Python 3"
    },
    "language_info": {
      "name": "python"
    }
  },
  "cells": [
    {
      "cell_type": "markdown",
      "metadata": {
        "id": "view-in-github",
        "colab_type": "text"
      },
      "source": [
        "<a href=\"https://colab.research.google.com/github/Zkeera/Project-Analisis-Sentimen/blob/main/Scraping_Data.ipynb\" target=\"_parent\"><img src=\"https://colab.research.google.com/assets/colab-badge.svg\" alt=\"Open In Colab\"/></a>"
      ]
    },
    {
      "cell_type": "code",
      "source": [
        "!pip install --upgrade google-play-scraper\n",
        "from google_play_scraper import reviews\n",
        "import csv\n",
        "import json\n",
        "import pandas as pd\n",
        "import json\n",
        "import pandas as pd"
      ],
      "metadata": {
        "colab": {
          "base_uri": "https://localhost:8080/"
        },
        "id": "EI0Roz5W4625",
        "outputId": "daa78589-7b70-406b-83c4-b5c028ee7cd0"
      },
      "execution_count": 24,
      "outputs": [
        {
          "output_type": "stream",
          "name": "stdout",
          "text": [
            "Requirement already satisfied: google-play-scraper in /usr/local/lib/python3.11/dist-packages (1.2.7)\n"
          ]
        }
      ]
    },
    {
      "cell_type": "code",
      "source": [
        "app_id = 'com.mobile.legends'"
      ],
      "metadata": {
        "id": "1uoXVB3i5OTc"
      },
      "execution_count": 25,
      "outputs": []
    },
    {
      "cell_type": "code",
      "source": [
        "from google_play_scraper import app\n",
        "data_app = app(app_id)\n",
        "\n",
        "print(\"Nama Aplikasi:\", data_app['title'])\n",
        "print(\"Rating Aplikasi:\", data_app['score'])\n",
        "print(\"Jumlah Ulasan:\", data_app['ratings'])\n",
        "print(\"Deskripsi Aplikasi:\", data_app['description'])"
      ],
      "metadata": {
        "colab": {
          "base_uri": "https://localhost:8080/"
        },
        "id": "7NJVh4Em5RFi",
        "outputId": "654cef6a-9524-459f-fa02-34e1a70009da"
      },
      "execution_count": 26,
      "outputs": [
        {
          "output_type": "stream",
          "name": "stdout",
          "text": [
            "Nama Aplikasi: Mobile Legends: Bang Bang\n",
            "Rating Aplikasi: 4.0828705\n",
            "Jumlah Ulasan: 37228468\n",
            "Deskripsi Aplikasi: Join your friends in Mobile Legends: Bang Bang, the brand new 5v5 MOBA showdown, and fight against real players! Choose your favorite heroes and build the perfect team with your comrades-in-arms! 10-second matchmaking, 10-minute battles. Laning, jungling, pushing, and teamfighting, all the fun of PC MOBA and action games in the palm of your hand! Feed your eSports spirit!\r\n",
            "\r\n",
            "Mobile Legends: Bang Bang, the fascinating MOBA game on mobile. Smash and outplay your enemies and achieve the final victory with your teammates!\r\n",
            "\r\n",
            "Your phone thirsts for battle!\r\n",
            "\r\n",
            "<b>Features:</b> \r\n",
            "\r\n",
            "<b>1. Classic MOBA Maps & 5v5 Battles</b> \r\n",
            "Real-time 5v5 battles against real players. 3 lanes, 4 jungle areas, 2 bosses, 18 defense towers, and endless fights, everything a classic MOBA has is here!\r\n",
            "\r\n",
            "<b>2. Win with Teamwork & Strategy</b> \r\n",
            "Block damage, control the enemy, and heal teammates! Choose from Tanks, Mages, Marksmen, Assassins, Supports, etc. to anchor your team and be match MVP! New heroes are constantly being released!\r\n",
            "\r\n",
            "<b>3. Fair Fights, Carry Your Team to Victory</b> \r\n",
            "Just like classic MOBAs, there is no hero training or paying for stats. Skill and strategy are all you need to be able to win the intense competition on this fair and balanced platform. Play to Win, not Pay to Win.\r\n",
            "\r\n",
            "<b>4. Simple Controls, Easy to Master</b> \r\n",
            "With a virtual joystick on the left and skill buttons on the right, 2 fingers are all you need to become a master! Autolock and target switching allow you to last hit to your heart’s content. Never miss! And a convenient tap-to-equip system allows you to buy equipment anywhere on the map so you can focus more on the thrill of battle!\r\n",
            "\r\n",
            "<b>5. 10 Second Matchmaking, 10 Minute Matches</b> \r\n",
            "Matchmaking only takes 10 seconds. And a match only takes 10 minutes. Gloss over the quiet early-game leveling up and jump right into the intense battles. Less boring waiting and repetitive farming, and more thrilling actions and fist-pumping victories. At any place, at any moment, just pick up your phone, fire up the game, and immerse yourself in the heart-pounding MOBA competition.\r\n",
            "\r\n",
            "<b>6. Smart Offline AI Assistance</b> \r\n",
            "A dropped connection could mean hanging your team out to dry in an intense match, but with Mobile Legends: Bang Bang’s powerful reconnection system, if you get dropped, you can be back in the battle in seconds. And while you’re offline, our AI system will take control of your character temporarily to avoid a 4-on-5 situation.\r\n",
            "\r\n",
            "PLEASE NOTE! Mobile Legends: Bang Bang is free to download and play, however some game items can also be purchased with real money. If you want to use this feature, please set up password protection for purchases in the settings of your Google Play Store app. Also, under our Terms of Service and Privacy Policy, you must be at least 12 years of age to play or download Mobile Legends: Bang Bang.\r\n",
            "\r\n",
            "<b>Contact Us</b> \r\n",
            "You can get customer service assistance via the [Contact Us] button in the game to help you with any problems you may encounter while playing. You can also find us on the following platforms. We welcome all of your Mobile Legends: Bang Bang thoughts and suggestions:\r\n",
            "\r\n",
            "<b>Customer Service Email:</b> mobilelegendsgame@moonton.com\r\n",
            "<b>Instagram:</b> @mobilelegendsgame\r\n",
            "<b>YouTube:</b> https://www.youtube.com/c/MobileLegends5v5MOBA\n"
          ]
        }
      ]
    },
    {
      "cell_type": "code",
      "source": [
        "total_reviews = 4000\n",
        "reviews_per_page = 200\n",
        "\n",
        "all_reviews = []\n",
        "num_pages = total_reviews // reviews_per_page"
      ],
      "metadata": {
        "id": "ZxL7gkad5UTB"
      },
      "execution_count": 27,
      "outputs": []
    },
    {
      "cell_type": "code",
      "source": [
        "from google_play_scraper import reviews_all\n",
        "\n",
        "for page in range(num_pages):\n",
        "    result, continuation_token = reviews(\n",
        "        app_id,\n",
        "        lang='id',\n",
        "        country='ID',\n",
        "        count=reviews_per_page,\n",
        "        continuation_token=continuation_token if page > 0 else None\n",
        "    )\n",
        "    all_reviews.extend(result)\n",
        "    print(f\"Halaman {page + 1} - {len(result)} ulasan ditambahkan.\")"
      ],
      "metadata": {
        "colab": {
          "base_uri": "https://localhost:8080/"
        },
        "id": "cVholZAi5kJj",
        "outputId": "6a3c01f3-9200-47fd-981e-981708bfb0b9"
      },
      "execution_count": 28,
      "outputs": [
        {
          "output_type": "stream",
          "name": "stdout",
          "text": [
            "Halaman 1 - 200 ulasan ditambahkan.\n",
            "Halaman 2 - 200 ulasan ditambahkan.\n",
            "Halaman 3 - 200 ulasan ditambahkan.\n",
            "Halaman 4 - 200 ulasan ditambahkan.\n",
            "Halaman 5 - 200 ulasan ditambahkan.\n",
            "Halaman 6 - 200 ulasan ditambahkan.\n",
            "Halaman 7 - 200 ulasan ditambahkan.\n",
            "Halaman 8 - 200 ulasan ditambahkan.\n",
            "Halaman 9 - 200 ulasan ditambahkan.\n",
            "Halaman 10 - 200 ulasan ditambahkan.\n",
            "Halaman 11 - 200 ulasan ditambahkan.\n",
            "Halaman 12 - 200 ulasan ditambahkan.\n",
            "Halaman 13 - 200 ulasan ditambahkan.\n",
            "Halaman 14 - 200 ulasan ditambahkan.\n",
            "Halaman 15 - 200 ulasan ditambahkan.\n",
            "Halaman 16 - 200 ulasan ditambahkan.\n",
            "Halaman 17 - 200 ulasan ditambahkan.\n",
            "Halaman 18 - 200 ulasan ditambahkan.\n",
            "Halaman 19 - 200 ulasan ditambahkan.\n",
            "Halaman 20 - 200 ulasan ditambahkan.\n"
          ]
        }
      ]
    },
    {
      "cell_type": "code",
      "source": [
        "remaining_reviews = total_reviews - len(all_reviews)\n",
        "if remaining_reviews > 0:\n",
        "    result, _ = reviews(app_id, count=remaining_reviews, lang='id', country='ID', page=num_pages)\n",
        "    all_reviews.extend(result)\n",
        "    print(f\"Tambahan {remaining_reviews} ulasan diambil.\")"
      ],
      "metadata": {
        "id": "5ggJz-p65--7"
      },
      "execution_count": 29,
      "outputs": []
    },
    {
      "cell_type": "code",
      "source": [
        "csv_filename = 'mobile_legends_reviews.csv'\n",
        "with open(csv_filename, 'w', newline='', encoding='utf-8') as csvfile:\n",
        "    writer = csv.writer(csvfile)\n",
        "    writer.writerow(['Rating', 'Ulasan'])\n",
        "    for review in all_reviews:\n",
        "        writer.writerow([review['score'], review['content']])\n",
        "\n",
        "print(f\"Data ulasan telah disimpan ke '{csv_filename}'\")"
      ],
      "metadata": {
        "colab": {
          "base_uri": "https://localhost:8080/"
        },
        "id": "rqEF2oxZ6Dlz",
        "outputId": "74af48a1-50e3-4d12-b5e0-a6f81c9f6367"
      },
      "execution_count": 30,
      "outputs": [
        {
          "output_type": "stream",
          "name": "stdout",
          "text": [
            "Data ulasan telah disimpan ke 'mobile_legends_reviews.csv'\n"
          ]
        }
      ]
    },
    {
      "cell_type": "code",
      "source": [
        "df = pd.DataFrame(all_reviews, columns=['review_id', 'user_name', 'score', 'content', 'thumbs_up_count', 'review_created'])\n",
        "df.to_csv('mobile_legends_reviews_dataframe.csv', index=False)"
      ],
      "metadata": {
        "id": "_Bi9vktp6TQC"
      },
      "execution_count": 31,
      "outputs": []
    },
    {
      "cell_type": "code",
      "source": [
        "from google.colab import files\n",
        "\n",
        "# Menyimpan Data Ulasan ke dalam File CSV\n",
        "csv_filename = 'mobile_legends_reviews.csv'\n",
        "with open(csv_filename, 'w', newline='', encoding='utf-8') as csvfile:\n",
        "    writer = csv.writer(csvfile)\n",
        "    writer.writerow(['Rating', 'Ulasan'])\n",
        "    for review in all_reviews:\n",
        "        writer.writerow([review['score'], review['content']])"
      ],
      "metadata": {
        "id": "Kdo97hmf6VTC"
      },
      "execution_count": 32,
      "outputs": []
    },
    {
      "cell_type": "code",
      "source": [
        "files.download(csv_filename)"
      ],
      "metadata": {
        "colab": {
          "base_uri": "https://localhost:8080/",
          "height": 17
        },
        "id": "SM_K4tzC6oXq",
        "outputId": "0f3d40c0-e2c3-4352-8042-fdd7dceb55bb"
      },
      "execution_count": 33,
      "outputs": [
        {
          "output_type": "display_data",
          "data": {
            "text/plain": [
              "<IPython.core.display.Javascript object>"
            ],
            "application/javascript": [
              "\n",
              "    async function download(id, filename, size) {\n",
              "      if (!google.colab.kernel.accessAllowed) {\n",
              "        return;\n",
              "      }\n",
              "      const div = document.createElement('div');\n",
              "      const label = document.createElement('label');\n",
              "      label.textContent = `Downloading \"${filename}\": `;\n",
              "      div.appendChild(label);\n",
              "      const progress = document.createElement('progress');\n",
              "      progress.max = size;\n",
              "      div.appendChild(progress);\n",
              "      document.body.appendChild(div);\n",
              "\n",
              "      const buffers = [];\n",
              "      let downloaded = 0;\n",
              "\n",
              "      const channel = await google.colab.kernel.comms.open(id);\n",
              "      // Send a message to notify the kernel that we're ready.\n",
              "      channel.send({})\n",
              "\n",
              "      for await (const message of channel.messages) {\n",
              "        // Send a message to notify the kernel that we're ready.\n",
              "        channel.send({})\n",
              "        if (message.buffers) {\n",
              "          for (const buffer of message.buffers) {\n",
              "            buffers.push(buffer);\n",
              "            downloaded += buffer.byteLength;\n",
              "            progress.value = downloaded;\n",
              "          }\n",
              "        }\n",
              "      }\n",
              "      const blob = new Blob(buffers, {type: 'application/binary'});\n",
              "      const a = document.createElement('a');\n",
              "      a.href = window.URL.createObjectURL(blob);\n",
              "      a.download = filename;\n",
              "      div.appendChild(a);\n",
              "      a.click();\n",
              "      div.remove();\n",
              "    }\n",
              "  "
            ]
          },
          "metadata": {}
        },
        {
          "output_type": "display_data",
          "data": {
            "text/plain": [
              "<IPython.core.display.Javascript object>"
            ],
            "application/javascript": [
              "download(\"download_adaf1098-0c52-4c8b-8cec-17018c261477\", \"mobile_legends_reviews.csv\", 348427)"
            ]
          },
          "metadata": {}
        }
      ]
    }
  ]
}