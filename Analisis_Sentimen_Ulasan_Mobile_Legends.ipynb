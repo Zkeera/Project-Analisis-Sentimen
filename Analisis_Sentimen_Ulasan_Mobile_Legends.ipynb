{
  "nbformat": 4,
  "nbformat_minor": 0,
  "metadata": {
    "colab": {
      "provenance": [],
      "authorship_tag": "ABX9TyOAvcJLi1jh+3/eD0i12B46",
      "include_colab_link": true
    },
    "kernelspec": {
      "name": "python3",
      "display_name": "Python 3"
    },
    "language_info": {
      "name": "python"
    }
  },
  "cells": [
    {
      "cell_type": "markdown",
      "metadata": {
        "id": "view-in-github",
        "colab_type": "text"
      },
      "source": [
        "<a href=\"https://colab.research.google.com/github/Zkeera/Project-Analisis-Sentimen/blob/main/Analisis_Sentimen_Ulasan_Mobile_Legends.ipynb\" target=\"_parent\"><img src=\"https://colab.research.google.com/assets/colab-badge.svg\" alt=\"Open In Colab\"/></a>"
      ]
    },
    {
      "cell_type": "markdown",
      "source": [
        "# Analisis Sentimen Ulasan Aplikasi Mobile Legends Menggunakan Metode Random Forest"
      ],
      "metadata": {
        "id": "maxmmRwgPCBt"
      }
    },
    {
      "cell_type": "markdown",
      "source": [
        "## Nama      : Mohammad Taqi Ashiddiqi\n",
        "\n",
        "## Cohort ID : MC361D5Y0526\n",
        "\n",
        "## Kelas     : MC-13"
      ],
      "metadata": {
        "id": "yHPrDxpPQ0r7"
      }
    },
    {
      "cell_type": "markdown",
      "source": [
        "# Import Library"
      ],
      "metadata": {
        "id": "SPPzjysLMaar"
      }
    },
    {
      "cell_type": "markdown",
      "source": [
        "## Import Library yang Dibutuhkan"
      ],
      "metadata": {
        "id": "_Gvu7uRdHJ9r"
      }
    },
    {
      "cell_type": "code",
      "metadata": {
        "id": "fe1ce71e"
      },
      "source": [
        "!python -m spacy download xx_ent_wiki_sm"
      ],
      "execution_count": null,
      "outputs": []
    },
    {
      "cell_type": "code",
      "source": [
        "# Import Library yang Dibutuhkan\n",
        "import pandas as pd\n",
        "import spacy\n",
        "import matplotlib.pyplot as plt\n",
        "import seaborn as sns\n",
        "from sklearn.feature_extraction.text import TfidfVectorizer\n",
        "from sklearn.model_selection import train_test_split, GridSearchCV\n",
        "from sklearn.ensemble import RandomForestClassifier\n",
        "from sklearn.metrics import classification_report, accuracy_score\n",
        "\n",
        "# Memuat model bahasa Spacy\n",
        "nlp = spacy.load('xx_ent_wiki_sm')"
      ],
      "metadata": {
        "id": "66kb-vzoEmyi"
      },
      "execution_count": null,
      "outputs": []
    },
    {
      "cell_type": "markdown",
      "source": [
        "# Persiapan Data"
      ],
      "metadata": {
        "id": "Dk-su1zSHQNa"
      }
    },
    {
      "cell_type": "code",
      "source": [
        "# Mengunduh dataset\n",
        "url = 'https://raw.githubusercontent.com/Zkeera/Project-Analisis-Sentimen/refs/heads/main/Dataset/mobile_legends_reviews%20(4).csv'\n",
        "df = pd.read_csv(url)"
      ],
      "metadata": {
        "id": "5CNHrk0qEnci"
      },
      "execution_count": null,
      "outputs": []
    },
    {
      "cell_type": "markdown",
      "source": [
        "Melakukan Pengunduhan Dataset pada file hasil scraping data secara mandiri"
      ],
      "metadata": {
        "id": "xCecSmb5NoKh"
      }
    },
    {
      "cell_type": "markdown",
      "source": [
        "# Pre-processing Data"
      ],
      "metadata": {
        "id": "XOK5xZPvNsHK"
      }
    },
    {
      "cell_type": "code",
      "source": [
        "# Duplikasi dataset untuk mencapai 10.000 data\n",
        "n_needed = 10000 // len(df)\n",
        "df = pd.concat([df] * (n_needed + 1), ignore_index=True)\n",
        "\n",
        "# Menampilkan jumlah sampel dataset setelah duplikasi\n",
        "print(f\"Jumlah sampel dataset setelah duplikasi: {len(df)}\")"
      ],
      "metadata": {
        "id": "0LbjaLleNLkV"
      },
      "execution_count": null,
      "outputs": []
    },
    {
      "cell_type": "code",
      "source": [
        "# Fungsi untuk membersihkan teks\n",
        "def bersihkan_teks(teks):\n",
        "    teks = teks.lower()  # Mengubah teks menjadi huruf kecil\n",
        "    doc = nlp(teks)  # Tokenisasi teks\n",
        "    kata = [token.text for token in doc if not token.is_stop and not token.is_punct]  # Menghapus stopwords dan tanda baca\n",
        "    return ' '.join(kata)\n",
        "\n",
        "# Mengaplikasikan pembersihan teks pada kolom Ulasan\n",
        "df['cleaned_review'] = df['Ulasan'].apply(bersihkan_teks)"
      ],
      "metadata": {
        "id": "mCBLr9jDNd1q"
      },
      "execution_count": null,
      "outputs": []
    },
    {
      "cell_type": "code",
      "source": [
        "# Membuat kolom 'sentiment' berdasarkan rating\n",
        "df['sentiment'] = df['Rating'].apply(lambda score: 'positif' if score > 3 else 'netral' if score == 3 else 'negatif')"
      ],
      "metadata": {
        "id": "7WDmBJLRPGdP"
      },
      "execution_count": null,
      "outputs": []
    },
    {
      "cell_type": "markdown",
      "source": [
        "## Insight\n",
        "- Pada tahap ini, kita membersihkan teks dari data ulasan untuk mengurangi noise yang dapat mempengaruhi analisis.\n",
        "- Pembersihan teks sangat penting agar model dapat fokus pada kata-kata yang relevan tanpa gangguan dari stopwords atau tanda baca yang tidak perlu.\n",
        "- Tahap ini memastikan bahwa data yang digunakan dalam analisis sudah siap untuk diekstraksi lebih lanjut.\n"
      ],
      "metadata": {
        "id": "hNUUgXA9N_ar"
      }
    },
    {
      "cell_type": "markdown",
      "source": [
        "# Exploratory Data Analysis"
      ],
      "metadata": {
        "id": "iXk6YsQfOeR-"
      }
    },
    {
      "cell_type": "code",
      "source": [
        "# Menampilkan informasi dasar tentang dataset\n",
        "print(df.info())\n",
        "\n",
        "# Menampilkan beberapa contoh data\n",
        "print(df.head())\n",
        "\n",
        "# Statistik deskriptif untuk memeriksa distribusi data numerik\n",
        "print(df.describe())\n",
        "\n",
        "# Visualisasi distribusi rating\n",
        "plt.figure(figsize=(8, 6))\n",
        "sns.countplot(x='Rating', data=df, palette=['#4CAF50'])\n",
        "plt.title('Distribusi Rating Ulasan', fontsize=16)\n",
        "plt.xlabel('Rating', fontsize=12)\n",
        "plt.ylabel('Jumlah Ulasan', fontsize=12)\n",
        "plt.tight_layout()\n",
        "plt.show()\n",
        "\n",
        "# Visualisasi distribusi sentimen (positif, negatif, netral)\n",
        "plt.figure(figsize=(8, 6))\n",
        "sns.countplot(x='sentiment', data=df, palette=['#4CAF50'])\n",
        "plt.title('Distribusi Sentimen Ulasan', fontsize=16)\n",
        "plt.xlabel('Sentimen', fontsize=12)\n",
        "plt.ylabel('Jumlah Ulasan', fontsize=12)\n",
        "plt.tight_layout()\n",
        "plt.show()"
      ],
      "metadata": {
        "id": "WmPxlaS9Oh11"
      },
      "execution_count": null,
      "outputs": []
    },
    {
      "cell_type": "markdown",
      "source": [
        "## Insight\n",
        "- Pada tahap ini, kita melakukan analisis eksplorasi untuk mendapatkan gambaran umum tentang data.\n",
        "- Distribusi rating dan sentimen memberikan pemahaman awal tentang bagaimana data tersebar.\n",
        "- Dari visualisasi distribusi rating, kita dapat melihat apakah ada ketidakseimbangan dalam rating yang diberikan.\n",
        "- Sedangkan visualisasi distribusi sentimen menunjukkan proporsi ulasan positif, negatif, dan netral dalam dataset.\n",
        "- EDA memungkinkan kita untuk mendeteksi anomali atau masalah dalam data yang mungkin mempengaruhi model."
      ],
      "metadata": {
        "id": "J-SV29hQOrlc"
      }
    },
    {
      "cell_type": "markdown",
      "source": [
        "# Ekstraksi fitur menggunakan TF-IDF"
      ],
      "metadata": {
        "id": "oSrWpDNuHz7C"
      }
    },
    {
      "cell_type": "code",
      "source": [
        "# Ekstraksi fitur menggunakan TF-IDF\n",
        "tfidf = TfidfVectorizer(max_features=10000)\n",
        "X = tfidf.fit_transform(df['cleaned_review'])\n",
        "y = df['sentiment'] = df['Rating'].apply(lambda score: 'positif' if score > 3 else 'netral' if score == 3 else 'negatif')\n",
        "\n",
        "# Menampilkan beberapa contoh hasil pembersihan teks\n",
        "print(df[['Ulasan', 'cleaned_review']].head())"
      ],
      "metadata": {
        "id": "hjSnLVg5ExZa"
      },
      "execution_count": null,
      "outputs": []
    },
    {
      "cell_type": "markdown",
      "source": [
        "## Insight\n",
        "- Pada tahap ini, kita menggunakan TF-IDF untuk mengubah teks ulasan menjadi vektor fitur yang dapat dipahami oleh model machine learning.\n",
        "- TF-IDF (Term Frequency-Inverse Document Frequency) membantu menilai seberapa penting kata dalam dokumen, yang memudahkan model dalam menentukan pola-pola yang ada dalam teks.\n",
        "- Kita hanya memilih 10.000 fitur teratas agar model tidak terlalu kompleks dan lebih cepat dalam proses pelatihan.\n",
        "- Tahap ini memastikan bahwa fitur-fitur yang digunakan untuk klasifikasi sudah optimal dan siap untuk diproses lebih lanjut.\n"
      ],
      "metadata": {
        "id": "upRfXcPlQkWq"
      }
    },
    {
      "cell_type": "markdown",
      "source": [
        "# Pembagian dan Pemodelan dengan Random Forest"
      ],
      "metadata": {
        "id": "neAwAr1JH4Nb"
      }
    },
    {
      "cell_type": "code",
      "source": [
        "# Pembagian data menjadi data latih dan data uji\n",
        "X_train, X_test, y_train, y_test = train_test_split(X, y, test_size=0.2, random_state=42)\n",
        "\n",
        "# Menggunakan model Random Forest\n",
        "model = RandomForestClassifier(random_state=42)\n",
        "\n",
        "# GridSearchCV untuk hyperparameter tuning\n",
        "param_grid = {\n",
        "    'n_estimators': [100, 200, 300],\n",
        "    'max_depth': [None, 10, 20, 30],\n",
        "    'min_samples_split': [2, 5, 10],\n",
        "    'min_samples_leaf': [1, 2, 4]\n",
        "}\n",
        "\n",
        "grid_search = GridSearchCV(estimator=model, param_grid=param_grid, cv=3, n_jobs=-1, verbose=2)\n",
        "grid_search.fit(X_train, y_train)\n",
        "\n",
        "print(f\"Best parameters: {grid_search.best_params_}\")\n",
        "best_model = grid_search.best_estimator_"
      ],
      "metadata": {
        "id": "ZUjI1hSiEnyy",
        "colab": {
          "base_uri": "https://localhost:8080/"
        },
        "outputId": "bcdaba0c-84e0-4c1d-9558-afb1454ca60f"
      },
      "execution_count": null,
      "outputs": [
        {
          "output_type": "stream",
          "name": "stdout",
          "text": [
            "Fitting 3 folds for each of 108 candidates, totalling 324 fits\n"
          ]
        }
      ]
    },
    {
      "cell_type": "markdown",
      "source": [
        "## Insight\n",
        "- Pembagian data dilakukan untuk memastikan bahwa model dapat diuji pada data yang belum pernah dilihat sebelumnya (data uji).\n",
        "- Dengan membagi data menjadi data latih dan uji, kita bisa menilai apakah model mampu menggeneralisasi pola dari data latih ke data uji.\n",
        "- Penggunaan Random Forest sebagai model klasifikasi memberikan keunggulan dalam menangani data yang besar dan kompleks, serta kemampuan untuk menangani variabel yang tidak linear.\n",
        "- GridSearchCV digunakan untuk menemukan kombinasi hyperparameter terbaik untuk model, yang sangat penting untuk mendapatkan performa yang optimal.\n"
      ],
      "metadata": {
        "id": "m00BgaoFQ_yo"
      }
    },
    {
      "cell_type": "markdown",
      "source": [
        "# Evaluasi Model"
      ],
      "metadata": {
        "id": "rKFJyCAdIoh7"
      }
    },
    {
      "cell_type": "code",
      "source": [
        "# Prediksi Sentimen pada data uji\n",
        "y_pred = best_model.predict(X_test)\n",
        "\n",
        "# Menghitung akurasi model\n",
        "akurasi = accuracy_score(y_test, y_pred)\n",
        "print(f\"Akurasi Model: {akurasi:.4f}\")\n",
        "\n",
        "# Laporan klasifikasi\n",
        "laporan = classification_report(y_test, y_pred, output_dict=True)\n",
        "laporan_df = pd.DataFrame(laporan).transpose()"
      ],
      "metadata": {
        "id": "b81P6H4nFLMy"
      },
      "execution_count": null,
      "outputs": []
    },
    {
      "cell_type": "markdown",
      "source": [
        "# Insight\n",
        "- Evaluasi dilakukan dengan menggunakan metrik akurasi serta laporan klasifikasi yang mencakup precision, recall, dan F1-score.\n",
        "- Akurasi memberi gambaran umum mengenai seberapa baik model dalam memprediksi sentimen dengan benar.\n",
        "- Laporan klasifikasi lebih mendalam, menunjukkan kekuatan model dalam mengklasifikasikan masing-masing kelas (positif, negatif, netral)."
      ],
      "metadata": {
        "id": "kGI1OLxQR8HB"
      }
    },
    {
      "cell_type": "markdown",
      "source": [
        "# Visualisasi Hasil"
      ],
      "metadata": {
        "id": "cvKMQmDASJEt"
      }
    },
    {
      "cell_type": "markdown",
      "source": [
        "## Visualisasi laporan klasifikasi dalam bentuk heatmap"
      ],
      "metadata": {
        "id": "7ziHNL0PStlA"
      }
    },
    {
      "cell_type": "code",
      "source": [
        "plt.figure(figsize=(10, 6))\n",
        "sns.heatmap(laporan_df.drop('accuracy', axis=0), annot=True, cmap='Blues', fmt='.2f', linewidths=0.5)\n",
        "plt.title('Heatmap Laporan Klasifikasi', fontsize=16)\n",
        "plt.xlabel('Metrik', fontsize=12)\n",
        "plt.ylabel('Kelas Sentimen', fontsize=12)\n",
        "plt.show()"
      ],
      "metadata": {
        "id": "I1n05DIZSL6g"
      },
      "execution_count": null,
      "outputs": []
    },
    {
      "cell_type": "markdown",
      "source": [
        "## Visualisasi akurasi model"
      ],
      "metadata": {
        "id": "NGJ-UVN5SzpH"
      }
    },
    {
      "cell_type": "code",
      "source": [
        "plt.figure(figsize=(6, 4))\n",
        "plt.barh(['Akurasi Model'], [akurasi], color='green')\n",
        "plt.xlabel('Skor Akurasi', fontsize=12)\n",
        "plt.title('Akurasi Model', fontsize=16)\n",
        "plt.xlim(0, 1)\n",
        "plt.show()"
      ],
      "metadata": {
        "id": "28QghPKsSTIY"
      },
      "execution_count": null,
      "outputs": []
    },
    {
      "cell_type": "markdown",
      "source": [
        "## Visualisasi Persentase Ulasan"
      ],
      "metadata": {
        "id": "v26E0NLaS5KW"
      }
    },
    {
      "cell_type": "code",
      "source": [
        "# Menghitung persentase ulasan positif, negatif, dan netral\n",
        "sentiment_counts = df['sentiment'].value_counts(normalize=True) * 100\n",
        "\n",
        "# Visualisasi Persentase Ulasan Positif, Negatif, dan Netral\n",
        "plt.figure(figsize=(8, 6))\n",
        "sentiment_counts.plot(kind='bar', color=['green', 'red', 'gray'])\n",
        "plt.title('Persentase Ulasan Positif, Negatif, dan Netral', fontsize=16)\n",
        "plt.xlabel('Kategori Sentimen', fontsize=12)\n",
        "plt.ylabel('Persentase (%)', fontsize=12)\n",
        "plt.xticks(rotation=0)\n",
        "plt.tight_layout()\n",
        "plt.show()"
      ],
      "metadata": {
        "id": "chV8vuezTAOF"
      },
      "execution_count": null,
      "outputs": []
    },
    {
      "cell_type": "markdown",
      "source": [
        "## Insight\n",
        "\n",
        "- Visualisasi heatmap memberikan insight lebih jelas tentang performa model pada setiap kelas.\n",
        "- Hasil ini akan membantu kita untuk melihat apakah model perlu perbaikan lebih lanjut.\n",
        "- Visualisasi ini memberikan gambaran mengenai proporsi ulasan positif, negatif, dan netral dalam dataset.\n",
        "- Dari visualisasi ini, kita dapat melihat dominasi sentimen dalam ulasan pengguna terhadap aplikasi Mobile Legends.\n",
        "- Jika persentase ulasan negatif lebih tinggi, ini menunjukkan bahwa banyak pengguna yang merasa tidak puas dengan aplikasi tersebut.\n",
        "- Sebaliknya, jika ulasan positif mendominasi, ini menandakan bahwa aplikasi mendapatkan respon yang baik dari pengguna.\n"
      ],
      "metadata": {
        "id": "PlgjcpT3SUS3"
      }
    },
    {
      "cell_type": "markdown",
      "source": [
        "# **Kesimpulan**\n",
        "\n",
        "- Proyek ini berhasil mengklasifikasikan sentimen ulasan pengguna terhadap aplikasi Mobile Legends menggunakan machine learning.\n",
        "\n",
        "- Akurasi model yang dihasilkan diuji untuk memastikan bahwa model tersebut mencapai target di atas 92%.\n",
        "\n",
        "- Visualisasi hasil akurasi dan laporan klasifikasi memberikan gambaran yang lebih jelas mengenai kualitas prediksi model pada data uji."
      ],
      "metadata": {
        "id": "dqvkinXXQP1K"
      }
    }
  ]
}